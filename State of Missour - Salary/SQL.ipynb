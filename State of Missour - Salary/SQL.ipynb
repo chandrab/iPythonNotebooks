{
 "cells": [
  {
   "cell_type": "code",
   "execution_count": 1,
   "metadata": {
    "collapsed": false
   },
   "outputs": [
    {
     "name": "stdout",
     "output_type": "stream",
     "text": [
      "Successfully imported Spark Modules\n"
     ]
    }
   ],
   "source": [
    "import sys\n",
    " \n",
    "# Append pyspark  to Python Path\n",
    "sys.path.append(\"C:/spark-1.6.0-bin-hadoop2.6/python\") #replace this path with your local spark folder\n",
    "try:\n",
    "    from pyspark import SparkContext\n",
    "    from pyspark import SparkConf\n",
    "    from pyspark.sql import SQLContext\n",
    "    print (\"Successfully imported Spark Modules\")\n",
    " \n",
    "except ImportError as e:\n",
    "    print (\"Can not import Spark Modules\")\n",
    "    sys.exit(1)\n",
    " \n",
    "#initiate Spark context and SQL Context</pre>\n",
    "sc = SparkContext(\"local[4]\", \"Simple App\")\n",
    "sqlContext = SQLContext(sc)\n",
    " \n",
    "#turn off logger\n",
    "logger = sc._jvm.org.apache.log4j\n",
    "logger.LogManager.getLogger(\"INFO\").setLevel( logger.Level.OFF )\n",
    "logger.LogManager.getLogger(\"org\").setLevel( logger.Level.OFF )\n",
    "logger.LogManager.getLogger(\"akka\").setLevel( logger.Level.OFF )\n",
    " "
   ]
  },
  {
   "cell_type": "markdown",
   "metadata": {},
   "source": [
    "#### loading click_click_count"
   ]
  },
  {
   "cell_type": "code",
   "execution_count": 5,
   "metadata": {
    "collapsed": false
   },
   "outputs": [],
   "source": [
    "from pyspark.sql import *\n",
    "lines = sc.textFile(\"click.click_count.txt\")\n",
    "parts = lines.map(lambda l: l.split(\",\"))\n",
    "people = parts.map(lambda p: Row(person_id=p[0], click_count=int(p[1])))\n",
    "\n",
    "# Infer the schema, and register the DataFrame as a table.\n",
    "schemaPeople = sqlContext.inferSchema(people)\n",
    "schemaPeople.registerTempTable(\"click_click_count\")"
   ]
  },
  {
   "cell_type": "code",
   "execution_count": null,
   "metadata": {
    "collapsed": false
   },
   "outputs": [],
   "source": []
  },
  {
   "cell_type": "markdown",
   "metadata": {},
   "source": [
    "#### loading demo_demographics "
   ]
  },
  {
   "cell_type": "code",
   "execution_count": 6,
   "metadata": {
    "collapsed": false
   },
   "outputs": [],
   "source": [
    "lines = sc.textFile(\"demo.demographics.txt\")\n",
    "parts = lines.map(lambda l: l.split(\",\"))\n",
    "people = parts.map(lambda p: Row(person_id=p[0]))\n",
    "\n",
    "# Infer the schema, and register the DataFrame as a table.\n",
    "schemaPeople = sqlContext.inferSchema(people)\n",
    "schemaPeople.registerTempTable(\"demo_demographics\")"
   ]
  },
  {
   "cell_type": "markdown",
   "metadata": {},
   "source": [
    "#### displaying data "
   ]
  },
  {
   "cell_type": "code",
   "execution_count": 7,
   "metadata": {
    "collapsed": false
   },
   "outputs": [
    {
     "name": "stdout",
     "output_type": "stream",
     "text": [
      "+-----------+---------+\n",
      "|click_count|person_id|\n",
      "+-----------+---------+\n",
      "|         10|        1|\n",
      "|         21|        2|\n",
      "|          0|        3|\n",
      "|         92|        4|\n",
      "|         29|        5|\n",
      "|          0|        8|\n",
      "|          1|        9|\n",
      "|          0|       10|\n",
      "|         12|       11|\n",
      "+-----------+---------+\n",
      "\n"
     ]
    }
   ],
   "source": [
    "sqlContext.sql(\"SELECT * FROM click_click_count\").show()"
   ]
  },
  {
   "cell_type": "code",
   "execution_count": 8,
   "metadata": {
    "collapsed": false
   },
   "outputs": [
    {
     "name": "stdout",
     "output_type": "stream",
     "text": [
      "+---------+\n",
      "|person_id|\n",
      "+---------+\n",
      "|        1|\n",
      "|        2|\n",
      "|        3|\n",
      "|        4|\n",
      "|        5|\n",
      "|        6|\n",
      "|        7|\n",
      "|        8|\n",
      "|        9|\n",
      "+---------+\n",
      "\n"
     ]
    }
   ],
   "source": [
    "sqlContext.sql(\"SELECT * FROM demo_demographics\").show()"
   ]
  },
  {
   "cell_type": "markdown",
   "metadata": {},
   "source": [
    "#### SQL query "
   ]
  },
  {
   "cell_type": "code",
   "execution_count": 9,
   "metadata": {
    "collapsed": false
   },
   "outputs": [
    {
     "name": "stdout",
     "output_type": "stream",
     "text": [
      "+---------+-----------+\n",
      "|person_id|click_count|\n",
      "+---------+-----------+\n",
      "|        1|         10|\n",
      "|        2|         21|\n",
      "|        4|         92|\n",
      "|        5|         29|\n",
      "|        9|          1|\n",
      "+---------+-----------+\n",
      "\n"
     ]
    }
   ],
   "source": [
    "sqlContext.sql(\"SELECT A.person_id,A.click_count FROM click_click_count as A, demo_demographics as B where A.person_id = B.person_id AND A.click_count >0\").show()"
   ]
  },
  {
   "cell_type": "code",
   "execution_count": 12,
   "metadata": {
    "collapsed": false
   },
   "outputs": [
    {
     "name": "stdout",
     "output_type": "stream",
     "text": [
      "+---------------+\n",
      "|sum_click_count|\n",
      "+---------------+\n",
      "|            153|\n",
      "+---------------+\n",
      "\n"
     ]
    }
   ],
   "source": [
    "#summation\n",
    "sqlContext.sql(\"SELECT sum(A.click_count) as sum_click_count FROM click_click_count as A, demo_demographics as B where A.person_id = B.person_id AND A.click_count >0\").show()"
   ]
  },
  {
   "cell_type": "code",
   "execution_count": null,
   "metadata": {
    "collapsed": true
   },
   "outputs": [],
   "source": []
  }
 ],
 "metadata": {
  "kernelspec": {
   "display_name": "Python 2",
   "language": "python",
   "name": "python2"
  },
  "language_info": {
   "codemirror_mode": {
    "name": "ipython",
    "version": 2
   },
   "file_extension": ".py",
   "mimetype": "text/x-python",
   "name": "python",
   "nbconvert_exporter": "python",
   "pygments_lexer": "ipython2",
   "version": "2.7.11"
  }
 },
 "nbformat": 4,
 "nbformat_minor": 0
}
