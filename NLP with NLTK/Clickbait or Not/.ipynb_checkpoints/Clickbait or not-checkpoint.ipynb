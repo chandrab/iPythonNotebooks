{
 "cells": [
  {
   "cell_type": "markdown",
   "metadata": {},
   "source": [
    "The original idea and dataset comes from here:\n",
    "https://github.com/peterldowns/clickbait-classifier\n",
    "\n",
    "This is my implementation of the same functionality"
   ]
  },
  {
   "cell_type": "code",
   "execution_count": 16,
   "metadata": {
    "collapsed": true
   },
   "outputs": [],
   "source": [
    "import numpy\n",
    "import sys\n",
    "import nltk\n",
    "import pandas as pd\n",
    "from sklearn import metrics\n",
    "from sklearn.feature_extraction.text import TfidfVectorizer\n",
    "from sklearn.naive_bayes import MultinomialNB\n"
   ]
  },
  {
   "cell_type": "code",
   "execution_count": 17,
   "metadata": {
    "collapsed": false
   },
   "outputs": [],
   "source": [
    "buzzfeed_df = pd.read_json('data/buzzfeed.json')\n",
    "clickhole_df = pd.read_json('data/clickhole.json')\n",
    "dose_df =  pd.read_json('data/dose.json')\n",
    "\n",
    "nytimes_df =  pd.read_json('data/nytimes.json')\n"
   ]
  },
  {
   "cell_type": "code",
   "execution_count": 18,
   "metadata": {
    "collapsed": false
   },
   "outputs": [],
   "source": [
    "from nltk.corpus import stopwords\n",
    "from nltk.stem import WordNetLemmatizer\n",
    "lemmatizer = WordNetLemmatizer()\n",
    "from nltk.tokenize import RegexpTokenizer\n",
    "\n",
    "tokenizer = RegexpTokenizer(r'\\w+')\n",
    "def prepross(header):\n",
    "    header = (\" \").join([word.lower() for word in header.split(\" \")])\n",
    "    header = (\" \").join([word for word in header.split(\" \") if word not in stopwords.words('english')])\n",
    "    header = (\" \").join([lemmatizer.lemmatize(word) for word in header.split(\" \")])\n",
    "    header = (\" \").join(tokenizer.tokenize(header))\n",
    "    header = (\" \").join('NUM' if word in numpy.arange(100) else word for word in header.split(\" \") )\n",
    "    header = (\" \").join(word if len(word) > 2 else \"\" for word in header.split(\" \") )\n",
    "    \n",
    "    return header.lower()\n"
   ]
  },
  {
   "cell_type": "code",
   "execution_count": 19,
   "metadata": {
    "collapsed": false
   },
   "outputs": [],
   "source": [
    "buzzfeed_df['article_title'] = buzzfeed_df['article_title'].apply(prepross)\n",
    "clickhole_df['article_title'] = clickhole_df['article_title'].apply(prepross)\n",
    "dose_df['article_title'] = dose_df['article_title'].apply(prepross)\n",
    "nytimes_df['article_title'] = nytimes_df['article_title'].apply(prepross)"
   ]
  },
  {
   "cell_type": "code",
   "execution_count": 20,
   "metadata": {
    "collapsed": false
   },
   "outputs": [],
   "source": [
    "temp1 = buzzfeed_df[['article_title','clickbait']]\n",
    "temp2 = clickhole_df[['article_title','clickbait']]\n",
    "temp3 = dose_df[['article_title','clickbait']]\n",
    "\n",
    "temp4 = nytimes_df[['article_title','clickbait']]"
   ]
  },
  {
   "cell_type": "code",
   "execution_count": null,
   "metadata": {
    "collapsed": false
   },
   "outputs": [],
   "source": [
    "\n"
   ]
  },
  {
   "cell_type": "code",
   "execution_count": 21,
   "metadata": {
    "collapsed": false
   },
   "outputs": [],
   "source": [
    "concat_df = pd.concat([temp1,temp2,temp3,temp4], ignore_index= True)"
   ]
  },
  {
   "cell_type": "code",
   "execution_count": 22,
   "metadata": {
    "collapsed": false
   },
   "outputs": [],
   "source": [
    "from sklearn.cross_validation import train_test_split\n",
    "train, test = train_test_split(concat_df,test_size = 0.3, random_state = 42)"
   ]
  },
  {
   "cell_type": "code",
   "execution_count": 23,
   "metadata": {
    "collapsed": false
   },
   "outputs": [],
   "source": [
    "#TFIDF\n",
    "from sklearn.feature_extraction.text import TfidfTransformer\n",
    "\n",
    "vectorizer = TfidfVectorizer(ngram_range=(1, 3),                          \n",
    "                             strip_accents='unicode',\n",
    "                             min_df=2,\n",
    "                             norm='l2')"
   ]
  },
  {
   "cell_type": "code",
   "execution_count": 24,
   "metadata": {
    "collapsed": false
   },
   "outputs": [],
   "source": [
    "#train\n",
    "\n",
    "X_train = numpy.array(train['article_title'])\n",
    "Y_train = numpy.array(train['clickbait'])\n",
    "X_test = numpy.array(test['article_title'])\n",
    "Y_test = numpy.array(test['clickbait'])"
   ]
  },
  {
   "cell_type": "code",
   "execution_count": 25,
   "metadata": {
    "collapsed": false
   },
   "outputs": [],
   "source": [
    "X_train = vectorizer.fit_transform(X_train)\n",
    "X_test = vectorizer.transform(X_test)"
   ]
  },
  {
   "cell_type": "code",
   "execution_count": 43,
   "metadata": {
    "collapsed": false
   },
   "outputs": [
    {
     "name": "stdout",
     "output_type": "stream",
     "text": [
      "             precision    recall  f1-score   support\n",
      "\n",
      "          0       0.92      0.95      0.93       908\n",
      "          1       0.95      0.92      0.93       952\n",
      "\n",
      "avg / total       0.93      0.93      0.93      1860\n",
      "\n"
     ]
    }
   ],
   "source": [
    "from sklearn.linear_model import LogisticRegression\n",
    "clf = LogisticRegression()\n",
    "clf = clf.fit(X_train, Y_train)\n",
    "Y_predicted = clf.predict(X_test)\n",
    "print metrics.classification_report(Y_test, Y_predicted)\n"
   ]
  },
  {
   "cell_type": "code",
   "execution_count": null,
   "metadata": {
    "collapsed": false
   },
   "outputs": [],
   "source": []
  },
  {
   "cell_type": "code",
   "execution_count": null,
   "metadata": {
    "collapsed": false
   },
   "outputs": [],
   "source": []
  },
  {
   "cell_type": "code",
   "execution_count": null,
   "metadata": {
    "collapsed": false
   },
   "outputs": [],
   "source": []
  },
  {
   "cell_type": "code",
   "execution_count": 48,
   "metadata": {
    "collapsed": false
   },
   "outputs": [
    {
     "name": "stdout",
     "output_type": "stream",
     "text": [
      "6 Things All Successful People Have In Common\n",
      "Clickbait with 91.5415983634 % probability\n"
     ]
    }
   ],
   "source": [
    "#enter your own title\n",
    "title = raw_input()\n",
    "input_df = pd.DataFrame([title],columns=['article_title'])\n",
    "\n",
    "input_test = vectorizer.transform(numpy.array(input_df['article_title'].apply(prepross)))\n",
    "if (nb_classifier.predict(input_test)[0] ==  1):\n",
    "    print \"Clickbait with \" + str(clf.predict_proba(input_test)[0][1] * 100) + \" % probability\"\n",
    "else: \n",
    "    print \"Article with \" + str(clf.predict_proba(input_test)[0][0] * 100) + \" % probability\"\n",
    "\n"
   ]
  },
  {
   "cell_type": "code",
   "execution_count": null,
   "metadata": {
    "collapsed": false
   },
   "outputs": [],
   "source": []
  },
  {
   "cell_type": "code",
   "execution_count": null,
   "metadata": {
    "collapsed": false
   },
   "outputs": [],
   "source": []
  },
  {
   "cell_type": "code",
   "execution_count": null,
   "metadata": {
    "collapsed": false
   },
   "outputs": [],
   "source": []
  },
  {
   "cell_type": "code",
   "execution_count": null,
   "metadata": {
    "collapsed": true
   },
   "outputs": [],
   "source": []
  }
 ],
 "metadata": {
  "kernelspec": {
   "display_name": "Python 2",
   "language": "python",
   "name": "python2"
  },
  "language_info": {
   "codemirror_mode": {
    "name": "ipython",
    "version": 2
   },
   "file_extension": ".py",
   "mimetype": "text/x-python",
   "name": "python",
   "nbconvert_exporter": "python",
   "pygments_lexer": "ipython2",
   "version": "2.7.10"
  }
 },
 "nbformat": 4,
 "nbformat_minor": 0
}
